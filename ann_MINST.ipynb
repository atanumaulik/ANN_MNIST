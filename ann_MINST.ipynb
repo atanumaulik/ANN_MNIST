{
 "cells": [
  {
   "cell_type": "code",
   "execution_count": 1,
   "metadata": {},
   "outputs": [],
   "source": [
    "# Neural Network Class Definition"
   ]
  },
  {
   "cell_type": "code",
   "execution_count": 19,
   "metadata": {},
   "outputs": [],
   "source": [
    "import numpy as np\n",
    "import matplotlib.pyplot as plt\n",
    "import scipy.special # needed to use the sigmoid activation function expit()\n",
    "import time"
   ]
  },
  {
   "cell_type": "code",
   "execution_count": 12,
   "metadata": {},
   "outputs": [],
   "source": [
    "class NeuralNetwork:\n",
    "    \n",
    "    def __init__(self, inputnodes, hiddennodes, outputnodes,learningrate):\n",
    "        \n",
    "        self.inodes = inputnodes\n",
    "        self.hnodes = hiddennodes\n",
    "        self.onodes = outputnodes\n",
    "        self.lr = learningrate\n",
    "        \n",
    "        # link weight matrices, weights sampled from a normal distribution\n",
    "        # np.random.normal (mean:0 ,std: 1/sqrt (of incoming links),(size : int or tuple of ints))\n",
    "        \n",
    "        self.wih = np.random.normal(0.0, pow (self.inodes,-0.5), (self.hnodes,self.inodes))\n",
    "        self.who = np.random.normal(0.0, pow(self.hnodes, -0.5), (self.onodes,self.hnodes))\n",
    "        \n",
    "        # Activation function : sigmoid: expit(x), imported from scipy.special\n",
    "        \n",
    "        self.activation_function = lambda x : scipy.special.expit(x)\n",
    "        \n",
    "        \n",
    "    \n",
    "    def train(self, inputs_list, targets_list):\n",
    "        \n",
    "        # Converting inputs into a 2D array\n",
    "        inputs = np.array(inputs_list, ndmin = 2).T  # .T performs transpose\n",
    "        targets = np.array(targets_list, ndmin = 2).T\n",
    "        \n",
    "        # Propagating the input signals forward\n",
    "        # Calculate signals into hidden layer : dot product of weight and input matrices\n",
    "        hidden_inputs = np.dot(self.wih, inputs)\n",
    "        \n",
    "        # Calculate signals emerging from hidden layer : sigmoid activation function applied\n",
    "        hidden_outputs = self.activation_function(hidden_inputs)\n",
    "        \n",
    "        # Calculate signals into final output layer\n",
    "        final_inputs = np.dot(self.who, hidden_outputs)\n",
    "        \n",
    "        # Calculate signals out of final output layer\n",
    "        final_outputs = self.activation_function(final_inputs)\n",
    "        \n",
    "        #  Calculation of errors\n",
    "        output_errors = targets - final_outputs\n",
    "        \n",
    "        # Backpropagation: adjustments of weights based on output errors\n",
    "        \n",
    "        # Hidden layer errors : output layer errors, split by weights, recombined at hidden nodes\n",
    "        hidden_errors = np.dot(self.who.T, output_errors)\n",
    "        \n",
    "        # updating weights between hidden and output layers\n",
    "        # Delta W_jk = lr * [E_k * sigmoid(O_k) * (1-sigmoid(O_k))] * [O_j]\n",
    "        self.who += self.lr*np.dot((output_errors*final_outputs*(1.0 - final_outputs)), np.transpose(hidden_outputs))\n",
    "        \n",
    "        # Updating weights between input and hidden layers\n",
    "        self.wih += self.lr*np.dot((hidden_errors*hidden_outputs*(1.0 - hidden_outputs)), np.transpose(inputs))\n",
    "        \n",
    "         \n",
    "    \n",
    "    # Query the neural network, i.e. forward propagate the inputs\n",
    "    def query(self, inputs_list):\n",
    "        \n",
    "        # Convert input list to 2-D array\n",
    "        inputs = np.array(inputs_list, ndmin = 2).T # .T performs transpose\n",
    "        \n",
    "        # Signals into hidden layer\n",
    "        hidden_inputs = np.dot(self.wih, inputs)\n",
    "         \n",
    "        # Calculate signals out of the hidden layer\n",
    "        hidden_outputs = self.activation_function(hidden_inputs)\n",
    "        \n",
    "        # Signals into output layer\n",
    "        final_inputs = np.dot(self.who, hidden_outputs)\n",
    "        \n",
    "        # Signals emerging from final output layer\n",
    "        final_outputs = self.activation_function(final_inputs)\n",
    "        \n",
    "        return final_outputs"
   ]
  },
  {
   "cell_type": "code",
   "execution_count": 13,
   "metadata": {},
   "outputs": [],
   "source": [
    "input_nodes = 784\n",
    "hidden_nodes = 100\n",
    "output_nodes = 10\n",
    "learning_rate = 0.1\n",
    "\n",
    "# Create instance of a neural network\n",
    "n = NeuralNetwork(input_nodes, hidden_nodes, output_nodes, learning_rate)"
   ]
  },
  {
   "cell_type": "code",
   "execution_count": 14,
   "metadata": {},
   "outputs": [],
   "source": [
    "# Load training data from MNIST csv file\n",
    "training_data_file = open(\"/home/atanu/Desktop/mlds/codes/ann_rashid/mnist_train.csv\",\"r\")\n",
    "training_data_list = training_data_file.readlines()\n",
    "training_data_file.close()"
   ]
  },
  {
   "cell_type": "code",
   "execution_count": 15,
   "metadata": {},
   "outputs": [
    {
     "name": "stdout",
     "output_type": "stream",
     "text": [
      "Training time for 5 epoch(s) is 333.3 s\n"
     ]
    }
   ],
   "source": [
    "# Training the network\n",
    "\n",
    "epochs = 5 # The number of times the training data is used for training\n",
    "t0 = time.process_time() # Starting clock to measure time\n",
    "for e in range(epochs):\n",
    "    for record in training_data_list:\n",
    "        all_values = record.split(',')\n",
    "        inputs = np.asfarray(all_values[1:])/255.0*0.99+0.01  # Scale and shift the inputs\n",
    "        targets = np.zeros(output_nodes) + 0.01\n",
    "        targets[int(all_values[0])]=0.99 # all_values[0] is the target label for this record\n",
    "        n.train(inputs,targets)\n",
    "t1 = time.process_time()-t0\n",
    "print('Training time for {} epoch(s) is {:.1f} s'.format(epochs,t1))"
   ]
  },
  {
   "cell_type": "code",
   "execution_count": 16,
   "metadata": {},
   "outputs": [],
   "source": [
    "# Testing the network\n",
    "\n",
    "test_data_file = open(\"/home/atanu/Desktop/mlds/codes/ann_rashid/mnist_test.csv\",\"r\")\n",
    "test_data_list = test_data_file.readlines()\n",
    "test_data_file.close()"
   ]
  },
  {
   "cell_type": "code",
   "execution_count": 17,
   "metadata": {},
   "outputs": [
    {
     "name": "stdout",
     "output_type": "stream",
     "text": [
      "No. of input nodes : 784\n",
      "No. of hidden nodes : 100\n",
      "No. of output nodes : 10\n",
      "Time taken for testing is 5.2 s\n",
      "After a training session of 5 epoch(s), performance = 0.9668 \n"
     ]
    }
   ],
   "source": [
    "# Testing against the full data set\n",
    "\n",
    "t2 = time.process_time()\n",
    "scorecard = []\n",
    "for record in test_data_list:\n",
    "    all_values = record.split(',')\n",
    "    correct_label = int(all_values[0]) # First number in the list\n",
    "    #print(correct_label,  'correct label')\n",
    "    inputs = np.asfarray(all_values[1:])/255.0*0.99+0.01 #rescaling inputs\n",
    "    outputs = n.query(inputs) # query the network\n",
    "    label = np.argmax(outputs)\n",
    "    #print(label, \"network's answer\")\n",
    "    if label ==correct_label:\n",
    "        scorecard.append(1)\n",
    "    else:\n",
    "        scorecard.append(0)\n",
    "#print(scorecard)\n",
    "\n",
    "t3 = time.process_time()-t2\n",
    "\n",
    "\n",
    "# Calculate the performance score\n",
    "\n",
    "scorecard_array=np.asarray(scorecard)\n",
    "performance=scorecard_array.sum()/scorecard_array.size\n",
    "print(\"No. of input nodes : {}\".format(input_nodes))\n",
    "print(\"No. of hidden nodes : {}\".format(hidden_nodes))\n",
    "print(\"No. of output nodes : {}\".format(output_nodes))\n",
    "print(\"Time taken for testing is {:.1f} s\".format(t3))\n",
    "print(\"After a training session of {} epoch(s), performance = {} \".format(epochs, performance))    "
   ]
  },
  {
   "cell_type": "code",
   "execution_count": null,
   "metadata": {},
   "outputs": [],
   "source": []
  },
  {
   "cell_type": "code",
   "execution_count": 32,
   "metadata": {},
   "outputs": [
    {
     "name": "stdout",
     "output_type": "stream",
     "text": [
      "min =  0.01\n",
      "max =  1.0\n",
      "[[2.61459280e-03]\n",
      " [1.93759149e-02]\n",
      " [4.12272842e-01]\n",
      " [1.81593867e-02]\n",
      " [2.15416631e-02]\n",
      " [1.93590022e-03]\n",
      " [1.65598893e-05]\n",
      " [2.35482096e-01]\n",
      " [2.46018855e-04]\n",
      " [9.41194881e-05]]\n",
      "Network says  2\n"
     ]
    },
    {
     "data": {
      "image/png": "[encoded data removed]",
      "text/plain": [
       "<Figure size 432x288 with 1 Axes>"
      ]
     },
     "metadata": {
      "needs_background": "light"
     },
     "output_type": "display_data"
    }
   ],
   "source": [
    "import imageio # Loads data from png image files\n",
    "\n",
    "# test the neural network with our own images\n",
    "\n",
    "# load image data from png files into an array\n",
    "\n",
    "img_array = imageio.imread('/home/atanu/Desktop/mlds/codes/ann_rashid/2828_my_own_2.png', as_gray=True)\n",
    "    \n",
    "# reshape from 28x28 to list of 784 values, invert values\n",
    "img_data  = 255.0 - img_array.reshape(784)\n",
    "    \n",
    "# then scale data to range from 0.01 to 1.0\n",
    "img_data = ((img_data / 255.0) * 0.99) + 0.01\n",
    "print(\"min = \", np.min(img_data))\n",
    "print(\"max = \", np.max(img_data))\n",
    "#print(img_data)\n",
    "\n",
    "# plot image\n",
    "plt.imshow(img_data.reshape(28,28), cmap='Greys', interpolation='None')\n",
    "\n",
    "# query the network\n",
    "outputs = n.query(img_data)\n",
    "print (outputs)\n",
    "\n",
    "# the index of the highest value corresponds to the label\n",
    "label = np.argmax(outputs)\n",
    "print(\"Network says \", label)"
   ]
  },
  {
   "cell_type": "code",
   "execution_count": null,
   "metadata": {},
   "outputs": [],
   "source": []
  },
  {
   "cell_type": "code",
   "execution_count": null,
   "metadata": {},
   "outputs": [],
   "source": []
  }
 ],
 "metadata": {
  "kernelspec": {
   "display_name": "Python 3",
   "language": "python",
   "name": "python3"
  },
  "language_info": {
   "codemirror_mode": {
    "name": "ipython",
    "version": 3
   },
   "file_extension": ".py",
   "mimetype": "text/x-python",
   "name": "python",
   "nbconvert_exporter": "python",
   "pygments_lexer": "ipython3",
   "version": "3.7.1"
  }
 },
 "nbformat": 4,
 "nbformat_minor": 2
}
